{
 "cells": [
  {
   "cell_type": "code",
   "execution_count": 1,
   "metadata": {
    "colab": {
     "base_uri": "https://localhost:8080/"
    },
    "id": "0ie_M4VW3k5z",
    "outputId": "bf27beb9-afa2-4af6-a3ba-881ff4dd9e27"
   },
   "outputs": [],
   "source": [
    "import catboost \n",
    "import xgboost"
   ]
  },
  {
   "cell_type": "code",
   "execution_count": 2,
   "metadata": {
    "id": "u5dINHRM8C5R"
   },
   "outputs": [],
   "source": [
    "import pandas as pd\n",
    "import numpy as np\n",
    "import seaborn as sns\n",
    "import matplotlib.pyplot as plt\n",
    "from sklearn.model_selection import train_test_split\n",
    "from sklearn.metrics import f1_score,accuracy_score,classification_report\n",
    "from sklearn.ensemble import RandomForestClassifier\n",
    "from xgboost import XGBClassifier\n",
    "from catboost import Pool, CatBoostRegressor\n",
    "from sklearn.model_selection import KFold\n",
    "from sklearn.metrics import mean_absolute_error\n",
    "import os\n",
    "import gc\n",
    "\n",
    "import warnings\n",
    "warnings.filterwarnings('ignore')\n",
    "pd.pandas.set_option('display.max_columns',None)"
   ]
  },
  {
   "cell_type": "code",
   "execution_count": 3,
   "metadata": {
    "id": "Dc-Qz4yq-J16"
   },
   "outputs": [],
   "source": [
    "data = pd.read_csv('wild_blueberry_data.csv')"
   ]
  },
  {
   "cell_type": "code",
   "execution_count": 4,
   "metadata": {
    "colab": {
     "base_uri": "https://localhost:8080/",
     "height": 226
    },
    "id": "ZwMUu1Iz_PPg",
    "outputId": "7a513599-a041-4b69-cdf5-e5046c56260b"
   },
   "outputs": [
    {
     "data": {
      "text/html": [
       "<div>\n",
       "<style scoped>\n",
       "    .dataframe tbody tr th:only-of-type {\n",
       "        vertical-align: middle;\n",
       "    }\n",
       "\n",
       "    .dataframe tbody tr th {\n",
       "        vertical-align: top;\n",
       "    }\n",
       "\n",
       "    .dataframe thead th {\n",
       "        text-align: right;\n",
       "    }\n",
       "</style>\n",
       "<table border=\"1\" class=\"dataframe\">\n",
       "  <thead>\n",
       "    <tr style=\"text-align: right;\">\n",
       "      <th></th>\n",
       "      <th>Row#</th>\n",
       "      <th>clonesize</th>\n",
       "      <th>honeybee</th>\n",
       "      <th>bumbles</th>\n",
       "      <th>andrena</th>\n",
       "      <th>osmia</th>\n",
       "      <th>MaxOfUpperTRange</th>\n",
       "      <th>MinOfUpperTRange</th>\n",
       "      <th>AverageOfUpperTRange</th>\n",
       "      <th>MaxOfLowerTRange</th>\n",
       "      <th>MinOfLowerTRange</th>\n",
       "      <th>AverageOfLowerTRange</th>\n",
       "      <th>RainingDays</th>\n",
       "      <th>AverageRainingDays</th>\n",
       "      <th>fruitset</th>\n",
       "      <th>fruitmass</th>\n",
       "      <th>seeds</th>\n",
       "      <th>yield</th>\n",
       "    </tr>\n",
       "  </thead>\n",
       "  <tbody>\n",
       "    <tr>\n",
       "      <th>0</th>\n",
       "      <td>0</td>\n",
       "      <td>37.5</td>\n",
       "      <td>0.75</td>\n",
       "      <td>0.25</td>\n",
       "      <td>0.25</td>\n",
       "      <td>0.25</td>\n",
       "      <td>86.0</td>\n",
       "      <td>52.0</td>\n",
       "      <td>71.9</td>\n",
       "      <td>62.0</td>\n",
       "      <td>30.0</td>\n",
       "      <td>50.8</td>\n",
       "      <td>16.0</td>\n",
       "      <td>0.26</td>\n",
       "      <td>0.410652</td>\n",
       "      <td>0.408159</td>\n",
       "      <td>31.678898</td>\n",
       "      <td>3813.165795</td>\n",
       "    </tr>\n",
       "    <tr>\n",
       "      <th>1</th>\n",
       "      <td>1</td>\n",
       "      <td>37.5</td>\n",
       "      <td>0.75</td>\n",
       "      <td>0.25</td>\n",
       "      <td>0.25</td>\n",
       "      <td>0.25</td>\n",
       "      <td>86.0</td>\n",
       "      <td>52.0</td>\n",
       "      <td>71.9</td>\n",
       "      <td>62.0</td>\n",
       "      <td>30.0</td>\n",
       "      <td>50.8</td>\n",
       "      <td>1.0</td>\n",
       "      <td>0.10</td>\n",
       "      <td>0.444254</td>\n",
       "      <td>0.425458</td>\n",
       "      <td>33.449385</td>\n",
       "      <td>4947.605663</td>\n",
       "    </tr>\n",
       "    <tr>\n",
       "      <th>2</th>\n",
       "      <td>2</td>\n",
       "      <td>37.5</td>\n",
       "      <td>0.75</td>\n",
       "      <td>0.25</td>\n",
       "      <td>0.25</td>\n",
       "      <td>0.25</td>\n",
       "      <td>94.6</td>\n",
       "      <td>57.2</td>\n",
       "      <td>79.0</td>\n",
       "      <td>68.2</td>\n",
       "      <td>33.0</td>\n",
       "      <td>55.9</td>\n",
       "      <td>16.0</td>\n",
       "      <td>0.26</td>\n",
       "      <td>0.383787</td>\n",
       "      <td>0.399172</td>\n",
       "      <td>30.546306</td>\n",
       "      <td>3866.798965</td>\n",
       "    </tr>\n",
       "    <tr>\n",
       "      <th>3</th>\n",
       "      <td>3</td>\n",
       "      <td>37.5</td>\n",
       "      <td>0.75</td>\n",
       "      <td>0.25</td>\n",
       "      <td>0.25</td>\n",
       "      <td>0.25</td>\n",
       "      <td>94.6</td>\n",
       "      <td>57.2</td>\n",
       "      <td>79.0</td>\n",
       "      <td>68.2</td>\n",
       "      <td>33.0</td>\n",
       "      <td>55.9</td>\n",
       "      <td>1.0</td>\n",
       "      <td>0.10</td>\n",
       "      <td>0.407564</td>\n",
       "      <td>0.408789</td>\n",
       "      <td>31.562586</td>\n",
       "      <td>4303.943030</td>\n",
       "    </tr>\n",
       "    <tr>\n",
       "      <th>4</th>\n",
       "      <td>4</td>\n",
       "      <td>37.5</td>\n",
       "      <td>0.75</td>\n",
       "      <td>0.25</td>\n",
       "      <td>0.25</td>\n",
       "      <td>0.25</td>\n",
       "      <td>86.0</td>\n",
       "      <td>52.0</td>\n",
       "      <td>71.9</td>\n",
       "      <td>62.0</td>\n",
       "      <td>30.0</td>\n",
       "      <td>50.8</td>\n",
       "      <td>24.0</td>\n",
       "      <td>0.39</td>\n",
       "      <td>0.354413</td>\n",
       "      <td>0.382703</td>\n",
       "      <td>28.873714</td>\n",
       "      <td>3436.493543</td>\n",
       "    </tr>\n",
       "  </tbody>\n",
       "</table>\n",
       "</div>"
      ],
      "text/plain": [
       "   Row#  clonesize  honeybee  bumbles  andrena  osmia  MaxOfUpperTRange  \\\n",
       "0     0       37.5      0.75     0.25     0.25   0.25              86.0   \n",
       "1     1       37.5      0.75     0.25     0.25   0.25              86.0   \n",
       "2     2       37.5      0.75     0.25     0.25   0.25              94.6   \n",
       "3     3       37.5      0.75     0.25     0.25   0.25              94.6   \n",
       "4     4       37.5      0.75     0.25     0.25   0.25              86.0   \n",
       "\n",
       "   MinOfUpperTRange  AverageOfUpperTRange  MaxOfLowerTRange  MinOfLowerTRange  \\\n",
       "0              52.0                  71.9              62.0              30.0   \n",
       "1              52.0                  71.9              62.0              30.0   \n",
       "2              57.2                  79.0              68.2              33.0   \n",
       "3              57.2                  79.0              68.2              33.0   \n",
       "4              52.0                  71.9              62.0              30.0   \n",
       "\n",
       "   AverageOfLowerTRange  RainingDays  AverageRainingDays  fruitset  fruitmass  \\\n",
       "0                  50.8         16.0                0.26  0.410652   0.408159   \n",
       "1                  50.8          1.0                0.10  0.444254   0.425458   \n",
       "2                  55.9         16.0                0.26  0.383787   0.399172   \n",
       "3                  55.9          1.0                0.10  0.407564   0.408789   \n",
       "4                  50.8         24.0                0.39  0.354413   0.382703   \n",
       "\n",
       "       seeds        yield  \n",
       "0  31.678898  3813.165795  \n",
       "1  33.449385  4947.605663  \n",
       "2  30.546306  3866.798965  \n",
       "3  31.562586  4303.943030  \n",
       "4  28.873714  3436.493543  "
      ]
     },
     "execution_count": 4,
     "metadata": {},
     "output_type": "execute_result"
    }
   ],
   "source": [
    "data.head()"
   ]
  },
  {
   "cell_type": "code",
   "execution_count": 5,
   "metadata": {
    "colab": {
     "base_uri": "https://localhost:8080/"
    },
    "id": "BWlUqnHQaYGo",
    "outputId": "2ed3716c-6080-4982-9b5e-01c23c9e8dda"
   },
   "outputs": [
    {
     "name": "stdout",
     "output_type": "stream",
     "text": [
      "<class 'pandas.core.frame.DataFrame'>\n",
      "RangeIndex: 777 entries, 0 to 776\n",
      "Data columns (total 18 columns):\n",
      " #   Column                Non-Null Count  Dtype  \n",
      "---  ------                --------------  -----  \n",
      " 0   Row#                  777 non-null    int64  \n",
      " 1   clonesize             777 non-null    float64\n",
      " 2   honeybee              777 non-null    float64\n",
      " 3   bumbles               777 non-null    float64\n",
      " 4   andrena               777 non-null    float64\n",
      " 5   osmia                 777 non-null    float64\n",
      " 6   MaxOfUpperTRange      777 non-null    float64\n",
      " 7   MinOfUpperTRange      777 non-null    float64\n",
      " 8   AverageOfUpperTRange  777 non-null    float64\n",
      " 9   MaxOfLowerTRange      777 non-null    float64\n",
      " 10  MinOfLowerTRange      777 non-null    float64\n",
      " 11  AverageOfLowerTRange  777 non-null    float64\n",
      " 12  RainingDays           777 non-null    float64\n",
      " 13  AverageRainingDays    777 non-null    float64\n",
      " 14  fruitset              777 non-null    float64\n",
      " 15  fruitmass             777 non-null    float64\n",
      " 16  seeds                 777 non-null    float64\n",
      " 17  yield                 777 non-null    float64\n",
      "dtypes: float64(17), int64(1)\n",
      "memory usage: 109.4 KB\n"
     ]
    }
   ],
   "source": [
    "data.info()"
   ]
  },
  {
   "cell_type": "code",
   "execution_count": 6,
   "metadata": {
    "colab": {
     "base_uri": "https://localhost:8080/"
    },
    "id": "6FKcYwA6_SB2",
    "outputId": "545b0970-207d-4c2b-b245-ab71ba6e8b2d"
   },
   "outputs": [
    {
     "data": {
      "text/plain": [
       "(777, 18)"
      ]
     },
     "execution_count": 6,
     "metadata": {},
     "output_type": "execute_result"
    }
   ],
   "source": [
    "data.shape"
   ]
  },
  {
   "cell_type": "code",
   "execution_count": 7,
   "metadata": {
    "colab": {
     "base_uri": "https://localhost:8080/",
     "height": 320
    },
    "id": "PC6eklORaa9J",
    "outputId": "1a2e17b0-32fd-47f2-bd10-ab879af726c0"
   },
   "outputs": [
    {
     "data": {
      "text/html": [
       "<div>\n",
       "<style scoped>\n",
       "    .dataframe tbody tr th:only-of-type {\n",
       "        vertical-align: middle;\n",
       "    }\n",
       "\n",
       "    .dataframe tbody tr th {\n",
       "        vertical-align: top;\n",
       "    }\n",
       "\n",
       "    .dataframe thead th {\n",
       "        text-align: right;\n",
       "    }\n",
       "</style>\n",
       "<table border=\"1\" class=\"dataframe\">\n",
       "  <thead>\n",
       "    <tr style=\"text-align: right;\">\n",
       "      <th></th>\n",
       "      <th>Row#</th>\n",
       "      <th>clonesize</th>\n",
       "      <th>honeybee</th>\n",
       "      <th>bumbles</th>\n",
       "      <th>andrena</th>\n",
       "      <th>osmia</th>\n",
       "      <th>MaxOfUpperTRange</th>\n",
       "      <th>MinOfUpperTRange</th>\n",
       "      <th>AverageOfUpperTRange</th>\n",
       "      <th>MaxOfLowerTRange</th>\n",
       "      <th>MinOfLowerTRange</th>\n",
       "      <th>AverageOfLowerTRange</th>\n",
       "      <th>RainingDays</th>\n",
       "      <th>AverageRainingDays</th>\n",
       "      <th>fruitset</th>\n",
       "      <th>fruitmass</th>\n",
       "      <th>seeds</th>\n",
       "      <th>yield</th>\n",
       "    </tr>\n",
       "  </thead>\n",
       "  <tbody>\n",
       "    <tr>\n",
       "      <th>count</th>\n",
       "      <td>777.000000</td>\n",
       "      <td>777.000000</td>\n",
       "      <td>777.000000</td>\n",
       "      <td>777.000000</td>\n",
       "      <td>777.000000</td>\n",
       "      <td>777.000000</td>\n",
       "      <td>777.000000</td>\n",
       "      <td>777.000000</td>\n",
       "      <td>777.000000</td>\n",
       "      <td>777.000000</td>\n",
       "      <td>777.000000</td>\n",
       "      <td>777.000000</td>\n",
       "      <td>777.000000</td>\n",
       "      <td>777.000000</td>\n",
       "      <td>777.000000</td>\n",
       "      <td>777.000000</td>\n",
       "      <td>777.000000</td>\n",
       "      <td>777.000000</td>\n",
       "    </tr>\n",
       "    <tr>\n",
       "      <th>mean</th>\n",
       "      <td>388.000000</td>\n",
       "      <td>18.767696</td>\n",
       "      <td>0.417133</td>\n",
       "      <td>0.282389</td>\n",
       "      <td>0.468817</td>\n",
       "      <td>0.562062</td>\n",
       "      <td>82.277091</td>\n",
       "      <td>49.700515</td>\n",
       "      <td>68.723037</td>\n",
       "      <td>59.309395</td>\n",
       "      <td>28.690219</td>\n",
       "      <td>48.613127</td>\n",
       "      <td>18.309292</td>\n",
       "      <td>0.320000</td>\n",
       "      <td>0.502121</td>\n",
       "      <td>0.445983</td>\n",
       "      <td>36.122432</td>\n",
       "      <td>6012.849165</td>\n",
       "    </tr>\n",
       "    <tr>\n",
       "      <th>std</th>\n",
       "      <td>224.444871</td>\n",
       "      <td>6.999063</td>\n",
       "      <td>0.978904</td>\n",
       "      <td>0.066343</td>\n",
       "      <td>0.161052</td>\n",
       "      <td>0.169119</td>\n",
       "      <td>9.193745</td>\n",
       "      <td>5.595769</td>\n",
       "      <td>7.676984</td>\n",
       "      <td>6.647760</td>\n",
       "      <td>3.209547</td>\n",
       "      <td>5.417072</td>\n",
       "      <td>12.124226</td>\n",
       "      <td>0.171279</td>\n",
       "      <td>0.079445</td>\n",
       "      <td>0.040333</td>\n",
       "      <td>4.377889</td>\n",
       "      <td>1356.955318</td>\n",
       "    </tr>\n",
       "    <tr>\n",
       "      <th>min</th>\n",
       "      <td>0.000000</td>\n",
       "      <td>10.000000</td>\n",
       "      <td>0.000000</td>\n",
       "      <td>0.000000</td>\n",
       "      <td>0.000000</td>\n",
       "      <td>0.000000</td>\n",
       "      <td>69.700000</td>\n",
       "      <td>39.000000</td>\n",
       "      <td>58.200000</td>\n",
       "      <td>50.200000</td>\n",
       "      <td>24.300000</td>\n",
       "      <td>41.200000</td>\n",
       "      <td>1.000000</td>\n",
       "      <td>0.060000</td>\n",
       "      <td>0.192732</td>\n",
       "      <td>0.311921</td>\n",
       "      <td>22.079199</td>\n",
       "      <td>1637.704022</td>\n",
       "    </tr>\n",
       "    <tr>\n",
       "      <th>25%</th>\n",
       "      <td>194.000000</td>\n",
       "      <td>12.500000</td>\n",
       "      <td>0.250000</td>\n",
       "      <td>0.250000</td>\n",
       "      <td>0.380000</td>\n",
       "      <td>0.500000</td>\n",
       "      <td>77.400000</td>\n",
       "      <td>46.800000</td>\n",
       "      <td>64.700000</td>\n",
       "      <td>55.800000</td>\n",
       "      <td>27.000000</td>\n",
       "      <td>45.800000</td>\n",
       "      <td>3.770000</td>\n",
       "      <td>0.100000</td>\n",
       "      <td>0.454725</td>\n",
       "      <td>0.416281</td>\n",
       "      <td>33.116091</td>\n",
       "      <td>5124.854901</td>\n",
       "    </tr>\n",
       "    <tr>\n",
       "      <th>50%</th>\n",
       "      <td>388.000000</td>\n",
       "      <td>12.500000</td>\n",
       "      <td>0.250000</td>\n",
       "      <td>0.250000</td>\n",
       "      <td>0.500000</td>\n",
       "      <td>0.630000</td>\n",
       "      <td>86.000000</td>\n",
       "      <td>52.000000</td>\n",
       "      <td>71.900000</td>\n",
       "      <td>62.000000</td>\n",
       "      <td>30.000000</td>\n",
       "      <td>50.800000</td>\n",
       "      <td>16.000000</td>\n",
       "      <td>0.260000</td>\n",
       "      <td>0.508297</td>\n",
       "      <td>0.445587</td>\n",
       "      <td>36.166044</td>\n",
       "      <td>6107.382466</td>\n",
       "    </tr>\n",
       "    <tr>\n",
       "      <th>75%</th>\n",
       "      <td>582.000000</td>\n",
       "      <td>25.000000</td>\n",
       "      <td>0.500000</td>\n",
       "      <td>0.380000</td>\n",
       "      <td>0.630000</td>\n",
       "      <td>0.750000</td>\n",
       "      <td>89.000000</td>\n",
       "      <td>52.000000</td>\n",
       "      <td>71.900000</td>\n",
       "      <td>66.000000</td>\n",
       "      <td>30.000000</td>\n",
       "      <td>50.800000</td>\n",
       "      <td>24.000000</td>\n",
       "      <td>0.390000</td>\n",
       "      <td>0.561297</td>\n",
       "      <td>0.476149</td>\n",
       "      <td>39.239668</td>\n",
       "      <td>7022.189731</td>\n",
       "    </tr>\n",
       "    <tr>\n",
       "      <th>max</th>\n",
       "      <td>776.000000</td>\n",
       "      <td>40.000000</td>\n",
       "      <td>18.430000</td>\n",
       "      <td>0.585000</td>\n",
       "      <td>0.750000</td>\n",
       "      <td>0.750000</td>\n",
       "      <td>94.600000</td>\n",
       "      <td>57.200000</td>\n",
       "      <td>79.000000</td>\n",
       "      <td>68.200000</td>\n",
       "      <td>33.000000</td>\n",
       "      <td>55.900000</td>\n",
       "      <td>34.000000</td>\n",
       "      <td>0.560000</td>\n",
       "      <td>0.652144</td>\n",
       "      <td>0.535660</td>\n",
       "      <td>46.585105</td>\n",
       "      <td>8969.401842</td>\n",
       "    </tr>\n",
       "  </tbody>\n",
       "</table>\n",
       "</div>"
      ],
      "text/plain": [
       "             Row#   clonesize    honeybee     bumbles     andrena       osmia  \\\n",
       "count  777.000000  777.000000  777.000000  777.000000  777.000000  777.000000   \n",
       "mean   388.000000   18.767696    0.417133    0.282389    0.468817    0.562062   \n",
       "std    224.444871    6.999063    0.978904    0.066343    0.161052    0.169119   \n",
       "min      0.000000   10.000000    0.000000    0.000000    0.000000    0.000000   \n",
       "25%    194.000000   12.500000    0.250000    0.250000    0.380000    0.500000   \n",
       "50%    388.000000   12.500000    0.250000    0.250000    0.500000    0.630000   \n",
       "75%    582.000000   25.000000    0.500000    0.380000    0.630000    0.750000   \n",
       "max    776.000000   40.000000   18.430000    0.585000    0.750000    0.750000   \n",
       "\n",
       "       MaxOfUpperTRange  MinOfUpperTRange  AverageOfUpperTRange  \\\n",
       "count        777.000000        777.000000            777.000000   \n",
       "mean          82.277091         49.700515             68.723037   \n",
       "std            9.193745          5.595769              7.676984   \n",
       "min           69.700000         39.000000             58.200000   \n",
       "25%           77.400000         46.800000             64.700000   \n",
       "50%           86.000000         52.000000             71.900000   \n",
       "75%           89.000000         52.000000             71.900000   \n",
       "max           94.600000         57.200000             79.000000   \n",
       "\n",
       "       MaxOfLowerTRange  MinOfLowerTRange  AverageOfLowerTRange  RainingDays  \\\n",
       "count        777.000000        777.000000            777.000000   777.000000   \n",
       "mean          59.309395         28.690219             48.613127    18.309292   \n",
       "std            6.647760          3.209547              5.417072    12.124226   \n",
       "min           50.200000         24.300000             41.200000     1.000000   \n",
       "25%           55.800000         27.000000             45.800000     3.770000   \n",
       "50%           62.000000         30.000000             50.800000    16.000000   \n",
       "75%           66.000000         30.000000             50.800000    24.000000   \n",
       "max           68.200000         33.000000             55.900000    34.000000   \n",
       "\n",
       "       AverageRainingDays    fruitset   fruitmass       seeds        yield  \n",
       "count          777.000000  777.000000  777.000000  777.000000   777.000000  \n",
       "mean             0.320000    0.502121    0.445983   36.122432  6012.849165  \n",
       "std              0.171279    0.079445    0.040333    4.377889  1356.955318  \n",
       "min              0.060000    0.192732    0.311921   22.079199  1637.704022  \n",
       "25%              0.100000    0.454725    0.416281   33.116091  5124.854901  \n",
       "50%              0.260000    0.508297    0.445587   36.166044  6107.382466  \n",
       "75%              0.390000    0.561297    0.476149   39.239668  7022.189731  \n",
       "max              0.560000    0.652144    0.535660   46.585105  8969.401842  "
      ]
     },
     "execution_count": 7,
     "metadata": {},
     "output_type": "execute_result"
    }
   ],
   "source": [
    "data.describe()"
   ]
  },
  {
   "cell_type": "code",
   "execution_count": 8,
   "metadata": {
    "id": "1S4aD-UpbYyQ"
   },
   "outputs": [],
   "source": [
    "%%capture\n",
    "!pip install pandas_profiling"
   ]
  },
  {
   "cell_type": "code",
   "execution_count": 9,
   "metadata": {
    "colab": {
     "base_uri": "https://localhost:8080/"
    },
    "id": "KJcGZ3Gj070z",
    "outputId": "7c9b28e6-5851-419a-fbaf-b6a086ce6ffc"
   },
   "outputs": [
    {
     "name": "stderr",
     "output_type": "stream",
     "text": [
      "The syntax of the command is incorrect.\n"
     ]
    }
   ],
   "source": [
    "!pip install pydantic== <version>"
   ]
  },
  {
   "cell_type": "code",
   "execution_count": 10,
   "metadata": {
    "colab": {
     "base_uri": "https://localhost:8080/",
     "height": 465
    },
    "id": "yfEfrVURao0f",
    "outputId": "c25c486d-7a3e-4cbb-e606-2fdbc61b3a88"
   },
   "outputs": [
    {
     "data": {
      "image/png": "[encoded data removed]",
      "text/plain": [
       "<Figure size 576x360 with 1 Axes>"
      ]
     },
     "metadata": {
      "needs_background": "light"
     },
     "output_type": "display_data"
    }
   ],
   "source": [
    "# plot the boxplot using seaborn library of the target variable 'yield'\n",
    "plt.figure(figsize=(8,5))\n",
    "sns.boxplot(x='yield', data=data)\n",
    "plt.show()"
   ]
  },
  {
   "cell_type": "code",
   "execution_count": 11,
   "metadata": {
    "colab": {
     "base_uri": "https://localhost:8080/"
    },
    "id": "JNYlJ-aky2cW",
    "outputId": "0d1ea659-75c7-49ed-9034-dd2267646bfc"
   },
   "outputs": [
    {
     "data": {
      "text/plain": [
       "count     777.000000\n",
       "mean     6012.849165\n",
       "std      1356.955318\n",
       "min      1637.704022\n",
       "25%      5124.854901\n",
       "50%      6107.382466\n",
       "75%      7022.189731\n",
       "max      8969.401842\n",
       "Name: yield, dtype: float64"
      ]
     },
     "execution_count": 11,
     "metadata": {},
     "output_type": "execute_result"
    }
   ],
   "source": [
    "data['yield'].describe()"
   ]
  },
  {
   "cell_type": "code",
   "execution_count": 12,
   "metadata": {
    "id": "YsJ_TNWY3_MH"
   },
   "outputs": [],
   "source": [
    "data['yield_beyond_q75'] = np.where(\n",
    "    data['yield'] >=data['yield'].quantile(q=0.75), 1, 0)"
   ]
  },
  {
   "cell_type": "code",
   "execution_count": 13,
   "metadata": {
    "colab": {
     "base_uri": "https://localhost:8080/"
    },
    "id": "SFs6Frbh6H8G",
    "outputId": "d7f5554b-7bea-4bcc-8ee9-c36d7c863f4f"
   },
   "outputs": [
    {
     "data": {
      "text/plain": [
       "Row#                    0\n",
       "clonesize               0\n",
       "honeybee                0\n",
       "bumbles                 0\n",
       "andrena                 0\n",
       "osmia                   0\n",
       "MaxOfUpperTRange        0\n",
       "MinOfUpperTRange        0\n",
       "AverageOfUpperTRange    0\n",
       "MaxOfLowerTRange        0\n",
       "MinOfLowerTRange        0\n",
       "AverageOfLowerTRange    0\n",
       "RainingDays             0\n",
       "AverageRainingDays      0\n",
       "fruitset                0\n",
       "fruitmass               0\n",
       "seeds                   0\n",
       "yield                   0\n",
       "yield_beyond_q75        0\n",
       "dtype: int64"
      ]
     },
     "execution_count": 13,
     "metadata": {},
     "output_type": "execute_result"
    }
   ],
   "source": [
    "np.sum(data.isnull())"
   ]
  },
  {
   "cell_type": "code",
   "execution_count": 14,
   "metadata": {
    "colab": {
     "base_uri": "https://localhost:8080/"
    },
    "id": "eYvVv9oM6Bzi",
    "outputId": "e7cebca8-9288-434b-d745-44d595cdaaaf"
   },
   "outputs": [
    {
     "data": {
      "text/plain": [
       "0    582\n",
       "1    195\n",
       "Name: yield_beyond_q75, dtype: int64"
      ]
     },
     "execution_count": 14,
     "metadata": {},
     "output_type": "execute_result"
    }
   ],
   "source": [
    "data['yield_beyond_q75'].value_counts()"
   ]
  },
  {
   "cell_type": "code",
   "execution_count": 15,
   "metadata": {
    "colab": {
     "base_uri": "https://localhost:8080/",
     "height": 580
    },
    "id": "6NsAFNWG6Q8K",
    "outputId": "d7ea2727-49e7-46e2-b9d7-f5fc2878f14f"
   },
   "outputs": [
    {
     "data": {
      "image/png": "[encoded data removed]",
      "text/plain": [
       "<Figure size 4320x2520 with 16 Axes>"
      ]
     },
     "metadata": {
      "needs_background": "light"
     },
     "output_type": "display_data"
    }
   ],
   "source": [
    "nrows = 4\n",
    "ncols = 4\n",
    "fig, axes = plt.subplots(nrows=nrows, ncols=ncols, figsize=(60, 35))\n",
    "col_list = list(data.columns)\n",
    "col_list = list(set(col_list) - set(['id', 'yield', 'yield_beyond_q75']))\n",
    "col = 0\n",
    "\n",
    "for i in range(nrows):\n",
    "    for j in range(ncols):\n",
    "        sns.histplot(data=data, x=col_list[col], hue='yield_beyond_q75', ax=axes[i, j])\n",
    "        col = col + 1"
   ]
  },
  {
   "cell_type": "code",
   "execution_count": 16,
   "metadata": {
    "colab": {
     "base_uri": "https://localhost:8080/",
     "height": 467
    },
    "id": "oE0BfSfZ631W",
    "outputId": "e85ef413-0f3e-45b1-e8d0-08e7c9df999f"
   },
   "outputs": [
    {
     "data": {
      "text/plain": [
       "<AxesSubplot:xlabel='AverageOfUpperTRange', ylabel='yield'>"
      ]
     },
     "execution_count": 16,
     "metadata": {},
     "output_type": "execute_result"
    },
    {
     "data": {
      "image/png": "[encoded data removed]",
      "text/plain": [
       "<Figure size 720x432 with 1 Axes>"
      ]
     },
     "metadata": {
      "needs_background": "light"
     },
     "output_type": "display_data"
    }
   ],
   "source": [
    "plt.figure(figsize=(10,6))\n",
    "sns.boxplot(data=data, x=\"AverageOfUpperTRange\", y=\"yield\", hue='yield_beyond_q75')"
   ]
  },
  {
   "cell_type": "code",
   "execution_count": 17,
   "metadata": {
    "colab": {
     "base_uri": "https://localhost:8080/",
     "height": 467
    },
    "id": "sNlK30Hc7DY_",
    "outputId": "3765c819-fa7c-4b04-c94b-10363f622ed1"
   },
   "outputs": [
    {
     "data": {
      "text/plain": [
       "<AxesSubplot:xlabel='AverageRainingDays', ylabel='yield'>"
      ]
     },
     "execution_count": 17,
     "metadata": {},
     "output_type": "execute_result"
    },
    {
     "data": {
      "image/png": "[encoded data removed]",
      "text/plain": [
       "<Figure size 720x432 with 1 Axes>"
      ]
     },
     "metadata": {
      "needs_background": "light"
     },
     "output_type": "display_data"
    }
   ],
   "source": [
    "plt.figure(figsize=(10,6))\n",
    "sns.boxplot(data=data, x=\"AverageRainingDays\", y=\"yield\", hue='yield_beyond_q75')"
   ]
  },
  {
   "cell_type": "code",
   "execution_count": 18,
   "metadata": {
    "colab": {
     "base_uri": "https://localhost:8080/",
     "height": 467
    },
    "id": "ODxBje6V6hP7",
    "outputId": "7a4e8c60-4044-4679-c206-260bdda1ee12"
   },
   "outputs": [
    {
     "data": {
      "text/plain": [
       "<AxesSubplot:xlabel='AverageOfLowerTRange', ylabel='yield'>"
      ]
     },
     "execution_count": 18,
     "metadata": {},
     "output_type": "execute_result"
    },
    {
     "data": {
      "image/png": "[encoded data removed]",
      "text/plain": [
       "<Figure size 720x432 with 1 Axes>"
      ]
     },
     "metadata": {
      "needs_background": "light"
     },
     "output_type": "display_data"
    }
   ],
   "source": [
    "plt.figure(figsize=(10,6))\n",
    "sns.boxplot(data=data, x=\"AverageOfLowerTRange\", y=\"yield\", hue='yield_beyond_q75')"
   ]
  },
  {
   "cell_type": "code",
   "execution_count": 19,
   "metadata": {
    "colab": {
     "base_uri": "https://localhost:8080/",
     "height": 467
    },
    "id": "jR2-jBMZ7dWr",
    "outputId": "51ec0196-86c6-4c46-e13d-3ecb31c73a7c"
   },
   "outputs": [
    {
     "data": {
      "text/plain": [
       "<AxesSubplot:xlabel='seeds', ylabel='yield'>"
      ]
     },
     "execution_count": 19,
     "metadata": {},
     "output_type": "execute_result"
    },
    {
     "data": {
      "image/png": "[encoded data removed]",
      "text/plain": [
       "<Figure size 720x432 with 1 Axes>"
      ]
     },
     "metadata": {
      "needs_background": "light"
     },
     "output_type": "display_data"
    }
   ],
   "source": [
    "plt.figure(figsize=(10,6))\n",
    "sns.scatterplot(data=data, x=\"seeds\", y='yield', hue='yield_beyond_q75')"
   ]
  },
  {
   "cell_type": "code",
   "execution_count": 20,
   "metadata": {
    "colab": {
     "base_uri": "https://localhost:8080/",
     "height": 467
    },
    "id": "ozPDogUu7VyK",
    "outputId": "5ced7929-0004-4d2e-b3ae-b23b5b73aec2"
   },
   "outputs": [
    {
     "data": {
      "text/plain": [
       "<AxesSubplot:xlabel='fruitmass', ylabel='fruitset'>"
      ]
     },
     "execution_count": 20,
     "metadata": {},
     "output_type": "execute_result"
    },
    {
     "data": {
      "image/png": "[encoded data removed]",
      "text/plain": [
       "<Figure size 720x432 with 1 Axes>"
      ]
     },
     "metadata": {
      "needs_background": "light"
     },
     "output_type": "display_data"
    }
   ],
   "source": [
    "plt.figure(figsize=(10,6))\n",
    "sns.scatterplot(data=data, x=\"fruitmass\", y='fruitset', hue='yield_beyond_q75')"
   ]
  },
  {
   "cell_type": "code",
   "execution_count": 21,
   "metadata": {
    "id": "roVK9TBJ8oAI"
   },
   "outputs": [],
   "source": [
    "#splitting into independent and dependent features\n",
    "X = data.drop(columns=['yield'])\n",
    "y = data[['yield']]"
   ]
  },
  {
   "cell_type": "code",
   "execution_count": 22,
   "metadata": {
    "colab": {
     "base_uri": "https://localhost:8080/"
    },
    "id": "5D244k1N8uLE",
    "outputId": "cfe46a69-4637-43bb-b259-f7739e6e554d"
   },
   "outputs": [
    {
     "name": "stdout",
     "output_type": "stream",
     "text": [
      "Row#                    388.000000\n",
      "clonesize                12.500000\n",
      "honeybee                  0.250000\n",
      "bumbles                   0.130000\n",
      "andrena                   0.250000\n",
      "osmia                     0.250000\n",
      "MaxOfUpperTRange         11.600000\n",
      "MinOfUpperTRange          5.200000\n",
      "AverageOfUpperTRange      7.200000\n",
      "MaxOfLowerTRange         10.200000\n",
      "MinOfLowerTRange          3.000000\n",
      "AverageOfLowerTRange      5.000000\n",
      "RainingDays              20.230000\n",
      "AverageRainingDays        0.290000\n",
      "fruitset                  0.106571\n",
      "fruitmass                 0.059869\n",
      "seeds                     6.123577\n",
      "yield_beyond_q75          1.000000\n",
      "dtype: float64\n"
     ]
    }
   ],
   "source": [
    "#calculating Inter-quartile Range (IQR)\n",
    "q1 = X.quantile(0.25)\n",
    "q3 = X.quantile(0.75)\n",
    "iqr = q3 -q1\n",
    "print(iqr)"
   ]
  },
  {
   "cell_type": "code",
   "execution_count": 23,
   "metadata": {
    "colab": {
     "base_uri": "https://localhost:8080/"
    },
    "id": "20ftL7GE846k",
    "outputId": "f7e4eba1-9ac4-4fa7-b716-8a4793eae568"
   },
   "outputs": [
    {
     "data": {
      "text/plain": [
       "(752, 19)"
      ]
     },
     "execution_count": 23,
     "metadata": {},
     "output_type": "execute_result"
    }
   ],
   "source": [
    "iqr_data = data[~((data < (q1 - 1.5 * iqr)) | (data> (q3 + 1.5 * iqr))).any(axis=1)]\n",
    "iqr_data.shape"
   ]
  },
  {
   "cell_type": "code",
   "execution_count": 24,
   "metadata": {
    "colab": {
     "base_uri": "https://localhost:8080/",
     "height": 443
    },
    "id": "JcMGqPuP84oi",
    "outputId": "a0600ac4-49d8-4127-b792-efe75ee19dd9"
   },
   "outputs": [
    {
     "data": {
      "text/html": [
       "<div>\n",
       "<style scoped>\n",
       "    .dataframe tbody tr th:only-of-type {\n",
       "        vertical-align: middle;\n",
       "    }\n",
       "\n",
       "    .dataframe tbody tr th {\n",
       "        vertical-align: top;\n",
       "    }\n",
       "\n",
       "    .dataframe thead th {\n",
       "        text-align: right;\n",
       "    }\n",
       "</style>\n",
       "<table border=\"1\" class=\"dataframe\">\n",
       "  <thead>\n",
       "    <tr style=\"text-align: right;\">\n",
       "      <th></th>\n",
       "      <th>Row#</th>\n",
       "      <th>clonesize</th>\n",
       "      <th>honeybee</th>\n",
       "      <th>bumbles</th>\n",
       "      <th>andrena</th>\n",
       "      <th>osmia</th>\n",
       "      <th>MaxOfUpperTRange</th>\n",
       "      <th>MinOfUpperTRange</th>\n",
       "      <th>AverageOfUpperTRange</th>\n",
       "      <th>MaxOfLowerTRange</th>\n",
       "      <th>MinOfLowerTRange</th>\n",
       "      <th>AverageOfLowerTRange</th>\n",
       "      <th>RainingDays</th>\n",
       "      <th>AverageRainingDays</th>\n",
       "      <th>fruitset</th>\n",
       "      <th>fruitmass</th>\n",
       "      <th>seeds</th>\n",
       "      <th>yield</th>\n",
       "      <th>yield_beyond_q75</th>\n",
       "    </tr>\n",
       "  </thead>\n",
       "  <tbody>\n",
       "    <tr>\n",
       "      <th>0</th>\n",
       "      <td>0</td>\n",
       "      <td>37.5</td>\n",
       "      <td>0.75</td>\n",
       "      <td>0.25</td>\n",
       "      <td>0.25</td>\n",
       "      <td>0.25</td>\n",
       "      <td>86.0</td>\n",
       "      <td>52.0</td>\n",
       "      <td>71.9</td>\n",
       "      <td>62.0</td>\n",
       "      <td>30.0</td>\n",
       "      <td>50.8</td>\n",
       "      <td>16.0</td>\n",
       "      <td>0.26</td>\n",
       "      <td>0.410652</td>\n",
       "      <td>0.408159</td>\n",
       "      <td>31.678898</td>\n",
       "      <td>3813.165795</td>\n",
       "      <td>0</td>\n",
       "    </tr>\n",
       "    <tr>\n",
       "      <th>1</th>\n",
       "      <td>1</td>\n",
       "      <td>37.5</td>\n",
       "      <td>0.75</td>\n",
       "      <td>0.25</td>\n",
       "      <td>0.25</td>\n",
       "      <td>0.25</td>\n",
       "      <td>86.0</td>\n",
       "      <td>52.0</td>\n",
       "      <td>71.9</td>\n",
       "      <td>62.0</td>\n",
       "      <td>30.0</td>\n",
       "      <td>50.8</td>\n",
       "      <td>1.0</td>\n",
       "      <td>0.10</td>\n",
       "      <td>0.444254</td>\n",
       "      <td>0.425458</td>\n",
       "      <td>33.449385</td>\n",
       "      <td>4947.605663</td>\n",
       "      <td>0</td>\n",
       "    </tr>\n",
       "    <tr>\n",
       "      <th>2</th>\n",
       "      <td>2</td>\n",
       "      <td>37.5</td>\n",
       "      <td>0.75</td>\n",
       "      <td>0.25</td>\n",
       "      <td>0.25</td>\n",
       "      <td>0.25</td>\n",
       "      <td>94.6</td>\n",
       "      <td>57.2</td>\n",
       "      <td>79.0</td>\n",
       "      <td>68.2</td>\n",
       "      <td>33.0</td>\n",
       "      <td>55.9</td>\n",
       "      <td>16.0</td>\n",
       "      <td>0.26</td>\n",
       "      <td>0.383787</td>\n",
       "      <td>0.399172</td>\n",
       "      <td>30.546306</td>\n",
       "      <td>3866.798965</td>\n",
       "      <td>0</td>\n",
       "    </tr>\n",
       "    <tr>\n",
       "      <th>3</th>\n",
       "      <td>3</td>\n",
       "      <td>37.5</td>\n",
       "      <td>0.75</td>\n",
       "      <td>0.25</td>\n",
       "      <td>0.25</td>\n",
       "      <td>0.25</td>\n",
       "      <td>94.6</td>\n",
       "      <td>57.2</td>\n",
       "      <td>79.0</td>\n",
       "      <td>68.2</td>\n",
       "      <td>33.0</td>\n",
       "      <td>55.9</td>\n",
       "      <td>1.0</td>\n",
       "      <td>0.10</td>\n",
       "      <td>0.407564</td>\n",
       "      <td>0.408789</td>\n",
       "      <td>31.562586</td>\n",
       "      <td>4303.943030</td>\n",
       "      <td>0</td>\n",
       "    </tr>\n",
       "    <tr>\n",
       "      <th>4</th>\n",
       "      <td>4</td>\n",
       "      <td>37.5</td>\n",
       "      <td>0.75</td>\n",
       "      <td>0.25</td>\n",
       "      <td>0.25</td>\n",
       "      <td>0.25</td>\n",
       "      <td>86.0</td>\n",
       "      <td>52.0</td>\n",
       "      <td>71.9</td>\n",
       "      <td>62.0</td>\n",
       "      <td>30.0</td>\n",
       "      <td>50.8</td>\n",
       "      <td>24.0</td>\n",
       "      <td>0.39</td>\n",
       "      <td>0.354413</td>\n",
       "      <td>0.382703</td>\n",
       "      <td>28.873714</td>\n",
       "      <td>3436.493543</td>\n",
       "      <td>0</td>\n",
       "    </tr>\n",
       "    <tr>\n",
       "      <th>...</th>\n",
       "      <td>...</td>\n",
       "      <td>...</td>\n",
       "      <td>...</td>\n",
       "      <td>...</td>\n",
       "      <td>...</td>\n",
       "      <td>...</td>\n",
       "      <td>...</td>\n",
       "      <td>...</td>\n",
       "      <td>...</td>\n",
       "      <td>...</td>\n",
       "      <td>...</td>\n",
       "      <td>...</td>\n",
       "      <td>...</td>\n",
       "      <td>...</td>\n",
       "      <td>...</td>\n",
       "      <td>...</td>\n",
       "      <td>...</td>\n",
       "      <td>...</td>\n",
       "      <td>...</td>\n",
       "    </tr>\n",
       "    <tr>\n",
       "      <th>747</th>\n",
       "      <td>754</td>\n",
       "      <td>25.0</td>\n",
       "      <td>0.50</td>\n",
       "      <td>0.38</td>\n",
       "      <td>0.63</td>\n",
       "      <td>0.50</td>\n",
       "      <td>77.4</td>\n",
       "      <td>46.8</td>\n",
       "      <td>64.7</td>\n",
       "      <td>55.8</td>\n",
       "      <td>27.0</td>\n",
       "      <td>45.8</td>\n",
       "      <td>1.0</td>\n",
       "      <td>0.10</td>\n",
       "      <td>0.558394</td>\n",
       "      <td>0.478666</td>\n",
       "      <td>39.448650</td>\n",
       "      <td>7184.013843</td>\n",
       "      <td>1</td>\n",
       "    </tr>\n",
       "    <tr>\n",
       "      <th>748</th>\n",
       "      <td>755</td>\n",
       "      <td>25.0</td>\n",
       "      <td>0.50</td>\n",
       "      <td>0.38</td>\n",
       "      <td>0.63</td>\n",
       "      <td>0.50</td>\n",
       "      <td>69.7</td>\n",
       "      <td>42.1</td>\n",
       "      <td>58.2</td>\n",
       "      <td>50.2</td>\n",
       "      <td>24.3</td>\n",
       "      <td>41.2</td>\n",
       "      <td>16.0</td>\n",
       "      <td>0.26</td>\n",
       "      <td>0.494678</td>\n",
       "      <td>0.429703</td>\n",
       "      <td>34.784888</td>\n",
       "      <td>6292.960756</td>\n",
       "      <td>0</td>\n",
       "    </tr>\n",
       "    <tr>\n",
       "      <th>749</th>\n",
       "      <td>756</td>\n",
       "      <td>25.0</td>\n",
       "      <td>0.50</td>\n",
       "      <td>0.38</td>\n",
       "      <td>0.63</td>\n",
       "      <td>0.50</td>\n",
       "      <td>69.7</td>\n",
       "      <td>42.1</td>\n",
       "      <td>58.2</td>\n",
       "      <td>50.2</td>\n",
       "      <td>24.3</td>\n",
       "      <td>41.2</td>\n",
       "      <td>1.0</td>\n",
       "      <td>0.10</td>\n",
       "      <td>0.502842</td>\n",
       "      <td>0.430369</td>\n",
       "      <td>35.185971</td>\n",
       "      <td>6374.444297</td>\n",
       "      <td>0</td>\n",
       "    </tr>\n",
       "    <tr>\n",
       "      <th>750</th>\n",
       "      <td>757</td>\n",
       "      <td>25.0</td>\n",
       "      <td>0.50</td>\n",
       "      <td>0.38</td>\n",
       "      <td>0.63</td>\n",
       "      <td>0.50</td>\n",
       "      <td>77.4</td>\n",
       "      <td>46.8</td>\n",
       "      <td>64.7</td>\n",
       "      <td>55.8</td>\n",
       "      <td>27.0</td>\n",
       "      <td>45.8</td>\n",
       "      <td>24.0</td>\n",
       "      <td>0.39</td>\n",
       "      <td>0.513889</td>\n",
       "      <td>0.458966</td>\n",
       "      <td>37.209554</td>\n",
       "      <td>6180.951419</td>\n",
       "      <td>0</td>\n",
       "    </tr>\n",
       "    <tr>\n",
       "      <th>751</th>\n",
       "      <td>758</td>\n",
       "      <td>25.0</td>\n",
       "      <td>0.50</td>\n",
       "      <td>0.38</td>\n",
       "      <td>0.63</td>\n",
       "      <td>0.50</td>\n",
       "      <td>77.4</td>\n",
       "      <td>46.8</td>\n",
       "      <td>64.7</td>\n",
       "      <td>55.8</td>\n",
       "      <td>27.0</td>\n",
       "      <td>45.8</td>\n",
       "      <td>34.0</td>\n",
       "      <td>0.56</td>\n",
       "      <td>0.496826</td>\n",
       "      <td>0.447096</td>\n",
       "      <td>35.756223</td>\n",
       "      <td>5700.243243</td>\n",
       "      <td>0</td>\n",
       "    </tr>\n",
       "  </tbody>\n",
       "</table>\n",
       "<p>752 rows × 19 columns</p>\n",
       "</div>"
      ],
      "text/plain": [
       "     Row#  clonesize  honeybee  bumbles  andrena  osmia  MaxOfUpperTRange  \\\n",
       "0       0       37.5      0.75     0.25     0.25   0.25              86.0   \n",
       "1       1       37.5      0.75     0.25     0.25   0.25              86.0   \n",
       "2       2       37.5      0.75     0.25     0.25   0.25              94.6   \n",
       "3       3       37.5      0.75     0.25     0.25   0.25              94.6   \n",
       "4       4       37.5      0.75     0.25     0.25   0.25              86.0   \n",
       "..    ...        ...       ...      ...      ...    ...               ...   \n",
       "747   754       25.0      0.50     0.38     0.63   0.50              77.4   \n",
       "748   755       25.0      0.50     0.38     0.63   0.50              69.7   \n",
       "749   756       25.0      0.50     0.38     0.63   0.50              69.7   \n",
       "750   757       25.0      0.50     0.38     0.63   0.50              77.4   \n",
       "751   758       25.0      0.50     0.38     0.63   0.50              77.4   \n",
       "\n",
       "     MinOfUpperTRange  AverageOfUpperTRange  MaxOfLowerTRange  \\\n",
       "0                52.0                  71.9              62.0   \n",
       "1                52.0                  71.9              62.0   \n",
       "2                57.2                  79.0              68.2   \n",
       "3                57.2                  79.0              68.2   \n",
       "4                52.0                  71.9              62.0   \n",
       "..                ...                   ...               ...   \n",
       "747              46.8                  64.7              55.8   \n",
       "748              42.1                  58.2              50.2   \n",
       "749              42.1                  58.2              50.2   \n",
       "750              46.8                  64.7              55.8   \n",
       "751              46.8                  64.7              55.8   \n",
       "\n",
       "     MinOfLowerTRange  AverageOfLowerTRange  RainingDays  AverageRainingDays  \\\n",
       "0                30.0                  50.8         16.0                0.26   \n",
       "1                30.0                  50.8          1.0                0.10   \n",
       "2                33.0                  55.9         16.0                0.26   \n",
       "3                33.0                  55.9          1.0                0.10   \n",
       "4                30.0                  50.8         24.0                0.39   \n",
       "..                ...                   ...          ...                 ...   \n",
       "747              27.0                  45.8          1.0                0.10   \n",
       "748              24.3                  41.2         16.0                0.26   \n",
       "749              24.3                  41.2          1.0                0.10   \n",
       "750              27.0                  45.8         24.0                0.39   \n",
       "751              27.0                  45.8         34.0                0.56   \n",
       "\n",
       "     fruitset  fruitmass      seeds        yield  yield_beyond_q75  \n",
       "0    0.410652   0.408159  31.678898  3813.165795                 0  \n",
       "1    0.444254   0.425458  33.449385  4947.605663                 0  \n",
       "2    0.383787   0.399172  30.546306  3866.798965                 0  \n",
       "3    0.407564   0.408789  31.562586  4303.943030                 0  \n",
       "4    0.354413   0.382703  28.873714  3436.493543                 0  \n",
       "..        ...        ...        ...          ...               ...  \n",
       "747  0.558394   0.478666  39.448650  7184.013843                 1  \n",
       "748  0.494678   0.429703  34.784888  6292.960756                 0  \n",
       "749  0.502842   0.430369  35.185971  6374.444297                 0  \n",
       "750  0.513889   0.458966  37.209554  6180.951419                 0  \n",
       "751  0.496826   0.447096  35.756223  5700.243243                 0  \n",
       "\n",
       "[752 rows x 19 columns]"
      ]
     },
     "execution_count": 24,
     "metadata": {},
     "output_type": "execute_result"
    }
   ],
   "source": [
    "iqr_data = iqr_data.reset_index().drop([\"index\"], axis=1)\n",
    "iqr_data"
   ]
  },
  {
   "cell_type": "code",
   "execution_count": 25,
   "metadata": {
    "colab": {
     "base_uri": "https://localhost:8080/",
     "height": 1000
    },
    "id": "QpmK2ecQ84bL",
    "outputId": "ea72126a-7a51-43a1-abcf-a358ea1a3890"
   },
   "outputs": [
    {
     "data": {
      "image/png": "[encoded data removed]",
      "text/plain": [
       "<Figure size 648x1296 with 18 Axes>"
      ]
     },
     "metadata": {
      "needs_background": "light"
     },
     "output_type": "display_data"
    }
   ],
   "source": [
    "unpivot = pd.melt(iqr_data, iqr_data.describe().columns[-1], iqr_data.describe().columns[:-1])\n",
    "\n",
    "g = sns.FacetGrid(unpivot, col=\"variable\", col_wrap=3, sharex=False, sharey=False)\n",
    "g.map(sns.boxplot, \"value\")\n",
    "\n",
    "plt.show()"
   ]
  },
  {
   "cell_type": "code",
   "execution_count": 26,
   "metadata": {
    "id": "iu-Tk7y784M7"
   },
   "outputs": [],
   "source": [
    "#splitting IQR processed data into independent and dependent features\n",
    "X = iqr_data.drop(columns=['yield'])\n",
    "y = iqr_data[['yield']]"
   ]
  },
  {
   "cell_type": "code",
   "execution_count": 27,
   "metadata": {
    "id": "hGZ_oMPj83-j"
   },
   "outputs": [],
   "source": [
    "#splitting the dataset into training set and test set\n",
    "from sklearn.model_selection import train_test_split\n",
    "X_train, X_test, y_train, y_test= train_test_split(X, y, test_size= 0.2, random_state=0)"
   ]
  },
  {
   "cell_type": "code",
   "execution_count": 28,
   "metadata": {
    "id": "tnGgUVaj-ez5"
   },
   "outputs": [],
   "source": [
    "def correlation(dataset, threshold):\n",
    "    col_corr = set()  #Set of all the names of Correlated Columns\n",
    "    corr_matrix = dataset.corr()\n",
    "    for i in range (len(corr_matrix.columns)):\n",
    "        for j in range(i):\n",
    "            if (corr_matrix.iloc[i,j]) > threshold:\n",
    "                colname = corr_matrix.columns[i]  #getting the name of the column\n",
    "                col_corr.add(colname)\n",
    "    return col_corr"
   ]
  },
  {
   "cell_type": "code",
   "execution_count": 29,
   "metadata": {
    "colab": {
     "base_uri": "https://localhost:8080/"
    },
    "id": "ng4jxni4-eWs",
    "outputId": "88e50ac2-59d6-4abd-901a-fdb17fd0d23c"
   },
   "outputs": [
    {
     "data": {
      "text/plain": [
       "10"
      ]
     },
     "execution_count": 29,
     "metadata": {},
     "output_type": "execute_result"
    }
   ],
   "source": [
    "corr_features = correlation(X_train, 0.7)\n",
    "len(set(corr_features))\n"
   ]
  },
  {
   "cell_type": "code",
   "execution_count": 30,
   "metadata": {
    "colab": {
     "base_uri": "https://localhost:8080/"
    },
    "id": "VJiuQmho-uOE",
    "outputId": "8c08f65e-5f01-4ff5-f2bd-24d783de3103"
   },
   "outputs": [
    {
     "data": {
      "text/plain": [
       "{'AverageOfLowerTRange',\n",
       " 'AverageOfUpperTRange',\n",
       " 'AverageRainingDays',\n",
       " 'MaxOfLowerTRange',\n",
       " 'MinOfLowerTRange',\n",
       " 'MinOfUpperTRange',\n",
       " 'honeybee'}"
      ]
     },
     "execution_count": 30,
     "metadata": {},
     "output_type": "execute_result"
    }
   ],
   "source": [
    "corr_features = {'AverageOfLowerTRange',\n",
    " 'AverageOfUpperTRange',\n",
    " 'AverageRainingDays',\n",
    " 'MaxOfLowerTRange',\n",
    " 'MinOfLowerTRange',\n",
    " 'MinOfUpperTRange',\n",
    " 'honeybee'}\n",
    "corr_features"
   ]
  },
  {
   "cell_type": "code",
   "execution_count": 31,
   "metadata": {
    "id": "xEZahssw-uKi"
   },
   "outputs": [],
   "source": [
    "X_train= X_train.drop(corr_features,axis=1)\n",
    "X_test= X_test.drop(corr_features,axis=1)"
   ]
  },
  {
   "cell_type": "code",
   "execution_count": 32,
   "metadata": {
    "colab": {
     "base_uri": "https://localhost:8080/"
    },
    "id": "ikNzGPJo-uHe",
    "outputId": "9f1f7d04-3dbd-491d-ead7-eb2f7e57e332"
   },
   "outputs": [
    {
     "data": {
      "text/plain": [
       "(601, 11)"
      ]
     },
     "execution_count": 32,
     "metadata": {},
     "output_type": "execute_result"
    }
   ],
   "source": [
    "X_train.shape"
   ]
  },
  {
   "cell_type": "code",
   "execution_count": 33,
   "metadata": {
    "colab": {
     "base_uri": "https://localhost:8080/",
     "height": 637
    },
    "id": "qbwabiMh-uE8",
    "outputId": "885c4f0a-2f2e-470f-be76-344f02369804"
   },
   "outputs": [
    {
     "name": "stdout",
     "output_type": "stream",
     "text": [
      "Feature 0: 0.232415\n",
      "Feature 1: 0.150027\n",
      "Feature 2: 0.034829\n",
      "Feature 3: 0.016573\n",
      "Feature 4: 0.095969\n",
      "Feature 5: 0.124896\n",
      "Feature 6: 0.209084\n",
      "Feature 7: 1.925528\n",
      "Feature 8: 1.632590\n",
      "Feature 9: 1.650936\n",
      "Feature 10: 0.575652\n"
     ]
    },
    {
     "data": {
      "image/png": "[encoded data removed]",
      "text/plain": [
       "<Figure size 432x288 with 1 Axes>"
      ]
     },
     "metadata": {
      "needs_background": "light"
     },
     "output_type": "display_data"
    }
   ],
   "source": [
    "# Mutual Information feature selection\n",
    "from sklearn.feature_selection import SelectKBest\n",
    "from sklearn.feature_selection import mutual_info_regression\n",
    "\n",
    "# feature selection\n",
    "def select_features_info_based(X_train, y_train, X_test):\n",
    "    mutual_info = SelectKBest(score_func=mutual_info_regression, k='all')\n",
    " # learn relationship from training data\n",
    "    mutual_info.fit(X_train, y_train)\n",
    " # transform train input data\n",
    "    X_train_fs = mutual_info.transform(X_train)\n",
    " # transform test input data\n",
    "    X_test_fs = mutual_info.transform(X_test)\n",
    "    return X_train_fs, X_test_fs, mutual_info\n",
    "\n",
    "\n",
    "# Feature Selection\n",
    "X_train_fs, X_test_fs, fs_info = select_features_info_based(X_train, y_train, X_test)\n",
    "fs_info\n",
    "# what are scores for the features\n",
    "for i in range(len(fs_info.scores_)):\n",
    "    print('Feature %d: %f' % (i, fs_info.scores_[i]))\n",
    "# plotting the scores\n",
    "plt.bar([i for i in range(len(fs_info.scores_))], fs_info.scores_)\n",
    "plt.show()"
   ]
  },
  {
   "cell_type": "code",
   "execution_count": 34,
   "metadata": {
    "colab": {
     "base_uri": "https://localhost:8080/",
     "height": 641
    },
    "id": "t-6sp7_2-t9b",
    "outputId": "8990cb99-70e1-43ad-8e8a-3df715f42a71"
   },
   "outputs": [
    {
     "name": "stdout",
     "output_type": "stream",
     "text": [
      "Feature 0: 0.007120\n",
      "Feature 1: 181.436566\n",
      "Feature 2: 50.396352\n",
      "Feature 3: 6.262467\n",
      "Feature 4: 80.579273\n",
      "Feature 5: 13.139621\n",
      "Feature 6: 291.735778\n",
      "Feature 7: 19076.391809\n",
      "Feature 8: 4263.896203\n",
      "Feature 9: 9328.836779\n",
      "Feature 10: 660.317838\n"
     ]
    },
    {
     "data": {
      "image/png": "[encoded data removed]",
      "text/plain": [
       "<Figure size 432x288 with 1 Axes>"
      ]
     },
     "metadata": {
      "needs_background": "light"
     },
     "output_type": "display_data"
    }
   ],
   "source": [
    "# Correlation feature selection\n",
    "\n",
    "from sklearn.feature_selection import SelectKBest\n",
    "from sklearn.feature_selection import f_regression\n",
    "\n",
    "# Feature Selection\n",
    "def select_features_corr_based(X_train, y_train, X_test):\n",
    "    fs = SelectKBest(score_func=f_regression, k='all')\n",
    " # learning relationship from training data\n",
    "    fs.fit(X_train, y_train)\n",
    " # transform train input data\n",
    "    X_train_fs = fs.transform(X_train)\n",
    " # transform test input data\n",
    "    X_test_fs = fs.transform(X_test)\n",
    "    return X_train_fs, X_test_fs, fs\n",
    "\n",
    "# feature selection\n",
    "X_train_fs, X_test_fs, fs_corr = select_features_corr_based(X_train, y_train, X_test)\n",
    "# what are scores for the features\n",
    "for i in range(len(fs_corr.scores_)):\n",
    "    print('Feature %d: %f' % (i, fs_corr.scores_[i]))\n",
    "# plotting the scores\n",
    "plt.bar([i for i in range(len(fs_corr.scores_))], fs_corr.scores_)\n",
    "plt.show()"
   ]
  },
  {
   "cell_type": "code",
   "execution_count": 35,
   "metadata": {
    "id": "1Pal97Nc-ttb"
   },
   "outputs": [],
   "source": [
    "X_train_fs_model, X_test_fs_model, fs_info = select_features_info_based(X_train, y_train, X_test)\n"
   ]
  },
  {
   "cell_type": "code",
   "execution_count": 36,
   "metadata": {
    "id": "w7zQa-YO8mdR"
   },
   "outputs": [],
   "source": [
    "from sklearn.linear_model import LinearRegression\n",
    "reg = LinearRegression()\n",
    "reg.fit(X_train_fs_model, y_train)\n",
    "pred_linear = reg.predict(X_test_fs_model)"
   ]
  },
  {
   "cell_type": "code",
   "execution_count": 37,
   "metadata": {
    "colab": {
     "base_uri": "https://localhost:8080/"
    },
    "id": "BPXhlH0f_VYF",
    "outputId": "6eaaf3c4-0c42-41c2-a6f7-4192088a4d32"
   },
   "outputs": [
    {
     "name": "stdout",
     "output_type": "stream",
     "text": [
      "MAE: 85.853\n",
      "MSE: 11569.404\n",
      "RMSE: 107.561\n",
      "R-Square: 0.993\n"
     ]
    }
   ],
   "source": [
    "from sklearn.metrics import mean_absolute_error\n",
    "from sklearn.metrics import mean_squared_error\n",
    "from sklearn.metrics import r2_score\n",
    "\n",
    "mae_linear = mean_absolute_error(y_test, pred_linear)\n",
    "mse_linear = mean_squared_error(y_test, pred_linear)\n",
    "rmse_linear = np.sqrt(mse_linear)\n",
    "rsq_linear = r2_score(y_test, pred_linear)\n",
    "\n",
    "print('MAE: %.3f' % mae_linear)\n",
    "print('MSE: %.3f' % mse_linear)\n",
    "print('RMSE: %.3f' % rmse_linear)\n",
    "print('R-Square: %.3f' % rsq_linear)"
   ]
  },
  {
   "cell_type": "code",
   "execution_count": 38,
   "metadata": {
    "colab": {
     "base_uri": "https://localhost:8080/"
    },
    "id": "9Jvy1VeM_aNL",
    "outputId": "15e934dd-a4a6-42ff-d9fa-be06b450a1f5"
   },
   "outputs": [
    {
     "name": "stdout",
     "output_type": "stream",
     "text": [
      "MAE: 112.790\n",
      "MSE: 19207.647\n",
      "RMSE: 138.592\n",
      "R-Square: 0.988\n"
     ]
    }
   ],
   "source": [
    "from sklearn.ensemble import RandomForestRegressor\n",
    "\n",
    "# Defining the model and stating the random state to 1\n",
    "rf_model = RandomForestRegressor(random_state=1)\n",
    "\n",
    "# fitting the model\n",
    "rf_model.fit(X_train_fs_model, y_train)\n",
    "pred_rf=rf_model.predict(X_test_fs_model)\n",
    "pred_rf=pred_rf.reshape(151,1)\n",
    "\n",
    "mae_rf = mean_absolute_error(y_test, pred_rf)\n",
    "mse_rf = mean_squared_error(y_test, pred_rf)\n",
    "rmse_rf = np.sqrt(mse_rf)\n",
    "rsq_rf = r2_score(y_test, pred_rf)\n",
    "\n",
    "print('MAE: %.3f' % mae_rf)\n",
    "print('MSE: %.3f' % mse_rf)\n",
    "print('RMSE: %.3f' % rmse_rf)\n",
    "print('R-Square: %.3f' % rsq_rf)"
   ]
  },
  {
   "cell_type": "code",
   "execution_count": 39,
   "metadata": {
    "colab": {
     "base_uri": "https://localhost:8080/"
    },
    "id": "t-d9Y5LG_i0O",
    "outputId": "ba1a9162-0683-4815-a9bc-c4d0a3347756"
   },
   "outputs": [
    {
     "name": "stdout",
     "output_type": "stream",
     "text": [
      "MAE: 169.685\n",
      "MSE: 46240.719\n",
      "RMSE: 215.037\n",
      "R-Square: 0.971\n"
     ]
    }
   ],
   "source": [
    "from sklearn.tree import DecisionTreeRegressor\n",
    "\n",
    "dtree_reg = DecisionTreeRegressor()\n",
    "dtree_reg.fit(X_train_fs_model, y_train)\n",
    "pred_dtree = dtree_reg.predict(X_test_fs_model)\n",
    "\n",
    "mae_dtree = mean_absolute_error(y_test, pred_dtree)\n",
    "mse_dtree = mean_squared_error(y_test, pred_dtree)\n",
    "rmse_dtree = np.sqrt(mse_dtree)\n",
    "rsq_dtree = r2_score(y_test, pred_dtree)\n",
    "\n",
    "print('MAE: %.3f' % mae_dtree)\n",
    "print('MSE: %.3f' % mse_dtree)\n",
    "print('RMSE: %.3f' % rmse_dtree)\n",
    "print('R-Square: %.3f' % rsq_dtree)"
   ]
  },
  {
   "cell_type": "code",
   "execution_count": 40,
   "metadata": {
    "colab": {
     "base_uri": "https://localhost:8080/"
    },
    "id": "TnkFrQH-_uo2",
    "outputId": "aa4f747c-930d-4a26-e8cb-987bd0f10f26"
   },
   "outputs": [
    {
     "name": "stdout",
     "output_type": "stream",
     "text": [
      "MAE: 111.896\n",
      "MSE: 20277.266\n",
      "RMSE: 142.398\n",
      "R-Square: 0.987\n"
     ]
    }
   ],
   "source": [
    "import xgboost\n",
    "from xgboost import XGBRegressor\n",
    "\n",
    "xgb_model = XGBRegressor()\n",
    "xgb_model.fit(X_train_fs_model, y_train)\n",
    "pred_xgb = xgb_model.predict(X_test_fs_model)\n",
    "\n",
    "mae_xgb = mean_absolute_error(y_test, pred_xgb)\n",
    "mse_xgb = mean_squared_error(y_test, pred_xgb)\n",
    "rmse_xgb = np.sqrt(mse_xgb)\n",
    "rsq_xgb = r2_score(y_test, pred_xgb)\n",
    "\n",
    "print('MAE: %.3f' % mae_xgb)\n",
    "print('MSE: %.3f' % mse_xgb)\n",
    "print('RMSE: %.3f' % rmse_xgb)\n",
    "print('R-Square: %.3f' % rsq_xgb)"
   ]
  },
  {
   "cell_type": "code",
   "execution_count": 41,
   "metadata": {
    "colab": {
     "base_uri": "https://localhost:8080/",
     "height": 458
    },
    "id": "wTPMiifa_ydj",
    "outputId": "ab13aa08-6eb6-411b-d7c9-df701ceb729f"
   },
   "outputs": [
    {
     "data": {
      "image/png": "[encoded data removed]",
      "text/plain": [
       "<Figure size 432x288 with 1 Axes>"
      ]
     },
     "metadata": {
      "needs_background": "light"
     },
     "output_type": "display_data"
    }
   ],
   "source": [
    "error_rec = {\n",
    "    \"linearreg\": {\n",
    "        \"mae\": mae_linear,\n",
    "        \"rmse\": rmse_linear,\n",
    "        'r2': rsq_linear*100\n",
    "    },\n",
    "    \"randomforest\": {\n",
    "        \"mae\": mae_rf,\n",
    "        \"rmse\": rmse_rf,\n",
    "        'r2': rsq_rf*100\n",
    "    },\n",
    "    \"decisiontree\": {\n",
    "        \"mae\": mae_dtree,\n",
    "        \"rmse\": rmse_dtree,\n",
    "        'r2': rsq_dtree*100\n",
    "    },\n",
    "    \"xgboost\": {\n",
    "        \"mae\": mae_xgb,\n",
    "        \"rmse\": rmse_xgb,\n",
    "        'r2': rsq_xgb*100\n",
    "    },\n",
    "}\n",
    "pd.DataFrame(error_rec).plot(kind=\"bar\",\n",
    "             color=[\n",
    "                 sns.color_palette(\"pastel\")[1],\n",
    "                 sns.color_palette(\"pastel\")[2],\n",
    "                 sns.color_palette(\"pastel\")[3],\n",
    "                 sns.color_palette(\"pastel\")[4]]);"
   ]
  },
  {
   "cell_type": "code",
   "execution_count": 42,
   "metadata": {
    "id": "afRl4wsQ_25E"
   },
   "outputs": [],
   "source": [
    "from sklearn.model_selection import cross_val_score\n",
    "from sklearn.model_selection import RepeatedKFold\n",
    "from sklearn.pipeline import Pipeline\n",
    "from sklearn.model_selection import GridSearchCV\n",
    "\n",
    "\n",
    "cv = RepeatedKFold(n_splits= 78,n_repeats = 3,random_state = 1)\n",
    "fs_info_v0 = SelectKBest(score_func = mutual_info_regression)\n",
    "\n",
    "# define pipeline for each algorithm\n",
    "# define GSCV for each\n",
    "# loop through it\n",
    "\n",
    "\n",
    "pipe_lr = Pipeline([\n",
    "    ('sel', fs_info_v0),\n",
    "    ('model', LinearRegression())\n",
    "])\n",
    "\n",
    "pipe_rf = Pipeline([\n",
    "    ('sel', fs_info_v0),\n",
    "    ('model', RandomForestRegressor(random_state=1))\n",
    "])\n",
    "\n",
    "pipe_dtree = Pipeline([\n",
    "    ('sel', fs_info_v0),\n",
    "    ('model', DecisionTreeRegressor(random_state=1))\n",
    "])\n",
    "\n",
    "pipe_xgb = Pipeline([\n",
    "    ('sel', fs_info_v0),\n",
    "    ('model', XGBRegressor(random_state=1))\n",
    "])\n",
    "\n",
    "# pipe_lr.get_params().keys()"
   ]
  },
  {
   "cell_type": "code",
   "execution_count": 43,
   "metadata": {
    "id": "aBmQPtH7ACaO"
   },
   "outputs": [],
   "source": [
    "param_range = [15, 18, 10]\n",
    "param_range_fl = [5.0, 10.0]\n",
    "\n",
    "grid_params_lr = [{'sel__k': [i for i in range(X_train_fs_model.shape[1]-6, X_train_fs_model.shape[1]-4)],\n",
    "        }]\n",
    "\n",
    "\n",
    "grid_params_rf = [{'sel__k': [i for i in range(X_train_fs_model.shape[1]-6, X_train_fs_model.shape[1]-4)],\n",
    "        'model__criterion': ['squared_error', 'absolute_error'],\n",
    "#         'model__max_depth': param_range,\n",
    "#         'model__min_samples_split': param_range[1:]\n",
    "                  }]\n",
    "\n",
    "\n",
    "grid_params_dtree = [{'sel__k': [i for i in range(X_train_fs_model.shape[1]-6, X_train_fs_model.shape[1]-4)],\n",
    "                    'model__criterion': ['squared_error', 'absolute_error'],\n",
    "#                      'model__max_depth': param_range,\n",
    "#                      'model__max_features': ['auto', 'sqrt']\n",
    "                     }]\n",
    "\n",
    "\n",
    "grid_params_xgb = [{'sel__k': [i for i in range(X_train_fs_model.shape[1]-6, X_train_fs_model.shape[1]-4)],\n",
    "#                     'model__max_depth': [9,12],\n",
    "#                    'model__min_child_weight': [7,8],\n",
    "                   'model__subsample': [i/10. for i in range(9,11)]\n",
    "                   }]\n",
    "\n",
    "LR = GridSearchCV(estimator=pipe_lr,\n",
    "            param_grid=grid_params_lr,\n",
    "            scoring='neg_mean_absolute_error',\n",
    "            cv=cv)\n",
    "\n",
    "RF = GridSearchCV(estimator=pipe_rf,\n",
    "            param_grid=grid_params_rf,\n",
    "            scoring='neg_mean_absolute_error',\n",
    "            cv=cv,\n",
    "            n_jobs= -1)\n",
    "\n",
    "DT = GridSearchCV(estimator=pipe_dtree,\n",
    "            param_grid=grid_params_dtree,\n",
    "            scoring='neg_mean_absolute_error',\n",
    "            cv=cv,\n",
    "            n_jobs= -1)\n",
    "\n",
    "XGB = GridSearchCV(estimator=pipe_xgb,\n",
    "            param_grid=grid_params_xgb,\n",
    "            scoring='neg_mean_absolute_error',\n",
    "            cv=cv,\n",
    "            n_jobs= -1)\n",
    "\n",
    "grids = [LR,RF,XGB,DT]\n",
    "\n",
    "# Creating a dict for our reference\n",
    "grid_dict = {0: 'Logistic Regression',\n",
    "        1: 'Random Forest',\n",
    "        2: 'XGBoost',\n",
    "        3: 'Decision Tree'}"
   ]
  },
  {
   "cell_type": "code",
   "execution_count": 44,
   "metadata": {
    "id": "SaTYtRlcAMe5"
   },
   "outputs": [],
   "source": [
    "def extract_best_model(grids: list, grid_dict: dict):\n",
    "    print('Performing model optimizations...')\n",
    "    least_mae = 270817\n",
    "    best_regr = 0\n",
    "    best_gs = ''\n",
    "    for idx, gs in enumerate(grids):\n",
    "        print('\\nEstimator: %s' % grid_dict[idx])\n",
    "        gs.fit(X_train_fs_model, y_train.values.ravel())\n",
    "        print('Best Config: %s' % gs.best_params_)\n",
    "        # Best training data accuracy\n",
    "        print('Best MAE: %.3f' % gs.best_score_)\n",
    "        # Predict on test data with best params\n",
    "        y_pred_v0 = gs.predict(X_test_fs_model)\n",
    "        # Test data accuracy of model with best params\n",
    "        print('Test set mean absolute error for best params: %.3f ' % mean_absolute_error(y_test, y_pred_v0))\n",
    "        print('Test set root mean squared error for best params: %.3f ' % np.sqrt(mean_absolute_error(y_test, y_pred_v0)))\n",
    "\n",
    "        # Track best (least test error) model\n",
    "        if mean_absolute_error(y_test, y_pred_v0) < least_mae:\n",
    "            least_mae = mean_absolute_error(y_test, y_pred_v0)\n",
    "            best_gs = gs\n",
    "            best_regr = idx\n",
    "    print('\\nClassifier with least test set MAE: %s' % grid_dict[best_regr])\n",
    "\n",
    " \n",
    "    return (grid_dict[best_regr], best_gs, least_mae)\n"
   ]
  },
  {
   "cell_type": "code",
   "execution_count": 45,
   "metadata": {},
   "outputs": [
    {
     "name": "stdout",
     "output_type": "stream",
     "text": [
      "Performing model optimizations...\n",
      "\n",
      "Estimator: Logistic Regression\n",
      "Best Config: {'sel__k': 6}\n",
      "Best MAE: -108.245\n",
      "Test set mean absolute error for best params: 99.491 \n",
      "Test set root mean squared error for best params: 9.974 \n",
      "\n",
      "Estimator: Random Forest\n",
      "An error occurred: 'squared_error'\n"
     ]
    }
   ],
   "source": [
    "try: \n",
    "    best_model_name_v0, best_model_v0, least_mae_v0 = extract_best_model(grids=grids, grid_dict=grid_dict)\n",
    "    print(f\"Best Model: {best_model_name_v0}\")\n",
    "    print(f\"Error Rate: {least_mae_v0}\")\n",
    "    print(best_model_v0)\n",
    "\n",
    "except Exception as e:\n",
    "    print(f\"An error occurred: {e}\")\n",
    "\n"
   ]
  },
  {
   "cell_type": "code",
   "execution_count": 46,
   "metadata": {
    "colab": {
     "base_uri": "https://localhost:8080/"
    },
    "id": "eiC0of2KAX3J",
    "outputId": "1a985786-6df4-4f2d-c026-3bb99ef4e56a",
    "scrolled": false
   },
   "outputs": [
    {
     "name": "stdout",
     "output_type": "stream",
     "text": [
      "Random Forest V-1 optimising...\n",
      "Best Config: {'model__max_depth': 10, 'model__min_samples_split': 2}\n",
      "Best MAE: -110.892\n",
      "Test set mean absolute error for best params: 111.083 \n",
      "Test set root mean squared error for best params: 10.540 \n"
     ]
    }
   ],
   "source": [
    "grid_params_rf1 = [{\n",
    "        'model__max_depth': param_range,\n",
    "        'model__min_samples_split': [2,5]\n",
    "                  }]\n",
    "\n",
    "RF1 = GridSearchCV(\n",
    "    estimator=Pipeline([\n",
    "        ('sel', SelectKBest(score_func=mutual_info_regression, k=9)),\n",
    "        ('model', RandomForestRegressor(random_state=1, criterion='mse'))  \n",
    "    ]),\n",
    "    param_grid=grid_params_rf1,\n",
    "    scoring='neg_mean_absolute_error',\n",
    "    cv=cv,\n",
    "    n_jobs=-1\n",
    ")\n",
    "\n",
    "print(\"Random Forest V-1 optimising...\")\n",
    "RF1.fit(X_train_fs_model, y_train)\n",
    "print('Best Config: %s' % RF1.best_params_)\n",
    "print('Best MAE: %.3f' % RF1.best_score_)\n",
    "y_pred_v1_rf1 = RF1.predict(X_test_fs_model)\n",
    "print('Test set mean absolute error for best params: %.3f ' % mean_absolute_error(y_test, y_pred_v1_rf1))\n",
    "print('Test set root mean squared error for best params: %.3f ' % np.sqrt(mean_absolute_error(y_test, y_pred_v1_rf1)))"
   ]
  },
  {
   "cell_type": "code",
   "execution_count": 47,
   "metadata": {
    "colab": {
     "base_uri": "https://localhost:8080/"
    },
    "id": "8Fg1GDTKDvOD",
    "outputId": "74a43b93-6e8b-48b4-ad8d-36c1258a7216"
   },
   "outputs": [
    {
     "name": "stdout",
     "output_type": "stream",
     "text": [
      "\n",
      "Saved Random Forest tuned model to directory by name: randomforest_blueberry_pollination_tuned_model.joblib\n"
     ]
    }
   ],
   "source": [
    "#saving the model\n",
    "import joblib\n",
    "# Save the random forest grid search pipleline for backup\n",
    "dump_file_name1 = 'randomforest_blueberry_pollination_tuned_model.joblib'\n",
    "joblib.dump(RF1, dump_file_name1, compress=1)\n",
    "print('\\nSaved %s tuned model to directory by name: %s' % (\"Random Forest\", dump_file_name1))"
   ]
  },
  {
   "cell_type": "code",
   "execution_count": 48,
   "metadata": {
    "colab": {
     "base_uri": "https://localhost:8080/"
    },
    "id": "5kXVyqI9JnqZ",
    "outputId": "5310f676-2ca9-4f94-a127-11d515246100"
   },
   "outputs": [
    {
     "name": "stdout",
     "output_type": "stream",
     "text": [
      "\n",
      "Saved X_test for RF to CSV\n",
      "\n",
      " Saved X_train for RF to joblib file\n"
     ]
    }
   ],
   "source": [
    "pd.DataFrame(X_test_fs_model).to_csv(\"X_test_rf_df.csv\")\n",
    "print(\"\\nSaved X_test for RF to CSV\")\n",
    "\n",
    "# # Save final training dataset for backup\n",
    "joblib.dump(X_train_fs_model, \"X_train_rf.joblib\")\n",
    "print(\"\\n Saved X_train for RF to joblib file\")"
   ]
  },
  {
   "cell_type": "code",
   "execution_count": 49,
   "metadata": {
    "colab": {
     "base_uri": "https://localhost:8080/"
    },
    "id": "SZ7lU_DvJobq",
    "outputId": "ee638fff-d7dc-49f4-a88e-a38c1b478fb7"
   },
   "outputs": [
    {
     "name": "stdout",
     "output_type": "stream",
     "text": [
      "\n",
      "Saved y_test to joblib file\n"
     ]
    }
   ],
   "source": [
    "joblib.dump(y_test, \"y_test.joblib\", compress=1)\n",
    "print(\"\\nSaved y_test to joblib file\")"
   ]
  },
  {
   "cell_type": "code",
   "execution_count": null,
   "metadata": {
    "id": "33UXyfg0JtX7"
   },
   "outputs": [],
   "source": []
  }
 ],
 "metadata": {
  "colab": {
   "provenance": []
  },
  "kernelspec": {
   "display_name": "Python 3 (ipykernel)",
   "language": "python",
   "name": "python3"
  },
  "language_info": {
   "codemirror_mode": {
    "name": "ipython",
    "version": 3
   },
   "file_extension": ".py",
   "mimetype": "text/x-python",
   "name": "python",
   "nbconvert_exporter": "python",
   "pygments_lexer": "ipython3",
   "version": "3.9.7"
  }
 },
 "nbformat": 4,
 "nbformat_minor": 1
}
